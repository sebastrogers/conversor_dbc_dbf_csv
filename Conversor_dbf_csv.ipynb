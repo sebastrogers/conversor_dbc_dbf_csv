{
  "nbformat": 4,
  "nbformat_minor": 0,
  "metadata": {
    "colab": {
      "provenance": [],
      "include_colab_link": true
    },
    "kernelspec": {
      "name": "python3",
      "display_name": "Python 3"
    },
    "language_info": {
      "name": "python"
    }
  },
  "cells": [
    {
      "cell_type": "markdown",
      "metadata": {
        "id": "view-in-github",
        "colab_type": "text"
      },
      "source": [
        "<a href=\"https://colab.research.google.com/github/sebastrogers/conversor_dbc_dbf_csv/blob/main/Conversor_dbf_csv.ipynb\" target=\"_parent\"><img src=\"https://colab.research.google.com/assets/colab-badge.svg\" alt=\"Open In Colab\"/></a>"
      ]
    },
    {
      "cell_type": "code",
      "source": [
        "from google.colab import drive\n",
        "drive.mount('/content/drive')"
      ],
      "metadata": {
        "id": "J_V6q2nizebF",
        "colab": {
          "base_uri": "https://localhost:8080/"
        },
        "outputId": "234d644d-9ec0-4aeb-d647-d5f2de46cd63"
      },
      "execution_count": null,
      "outputs": [
        {
          "output_type": "stream",
          "name": "stdout",
          "text": [
            "Mounted at /content/drive\n"
          ]
        }
      ]
    },
    {
      "cell_type": "code",
      "source": [
        "!pip install simpledbf simpledbf SQLAlchemy\n",
        "!git clone https://github.com/eaglebh/blast-dbf.git\n",
        "!make -C /content/blast-dbf"
      ],
      "metadata": {
        "id": "XOicPUDA1cbf"
      },
      "execution_count": null,
      "outputs": []
    },
    {
      "cell_type": "code",
      "source": [
        "import subprocess\n",
        "import os\n",
        "from simpledbf import Dbf5\n",
        "import shutil\n",
        "\n",
        "dbc_files_dir = \"/content/drive/MyDrive/UPE/projeto_arbovirose/base_10-04 - Zika/zika/dbc_files\"\n",
        "dbf_files_temp_dir = f\"{dbc_files_dir}/temp_dbf\"\n",
        "csv_files_output_dir = f\"{dbc_files_dir}/csv\"\n",
        "\n",
        "if not os.path.exists(dbf_files_temp_dir):\n",
        "  os.makedirs(dbf_files_temp_dir)\n",
        "\n",
        "if not os.path.exists(csv_files_output_dir):\n",
        "  os.makedirs(csv_files_output_dir)\n",
        "\n",
        "for file in os.listdir(dbc_files_dir):\n",
        "  if file.endswith(\".dbc\") and (\"*\" not in file):\n",
        "    subprocess.run([\"./blast-dbf/blast-dbf\", f\"{dbc_files_dir}/{file}\", f\"{dbf_files_temp_dir}/{os.path.splitext(file)[0]}.dbf\"])\n",
        "    print(f\"Arquivo {file} convertido para DBF\")\n",
        "\n",
        "for file in os.listdir(dbf_files_temp_dir):\n",
        "  if file.endswith(\".dbf\") and (\"*\" not in file):\n",
        "    dbf = Dbf5(f\"{dbf_files_temp_dir}/{file}\", codec='ISO-8859-1')\n",
        "    dbf.to_csv(f\"{csv_files_output_dir}/{os.path.splitext(file)[0]}.csv\")\n",
        "    print(f\"Arquivo {file} convertido para CSV\")\n",
        "\n",
        "print(f\"\\nRemovendo pasta temporária ({dbf_files_temp_dir})\")\n",
        "shutil.rmtree(dbf_files_temp_dir)\n",
        "\n",
        "print(f\"\\nConversão finalizada! Arquivos .csv salvos em {csv_files_output_dir}\")"
      ],
      "metadata": {
        "colab": {
          "base_uri": "https://localhost:8080/"
        },
        "id": "ZTcvVsDKsBVk",
        "outputId": "7746e94f-ee3e-41e9-9862-254e59395764"
      },
      "execution_count": null,
      "outputs": [
        {
          "output_type": "stream",
          "name": "stdout",
          "text": [
            "Arquivo ZIKABR18.dbc convertido para DBF\n",
            "Arquivo ZIKABR16.dbc convertido para DBF\n",
            "Arquivo ZIKABR20.dbc convertido para DBF\n",
            "Arquivo ZIKABR17.dbc convertido para DBF\n",
            "Arquivo ZIKABR19.dbc convertido para DBF\n",
            "Arquivo ZIKABR21.dbc convertido para DBF\n",
            "Arquivo ZIKABR18.dbf convertido para CSV\n",
            "Arquivo ZIKABR16.dbf convertido para CSV\n",
            "Arquivo ZIKABR20.dbf convertido para CSV\n",
            "Arquivo ZIKABR17.dbf convertido para CSV\n",
            "Arquivo ZIKABR19.dbf convertido para CSV\n",
            "Arquivo ZIKABR21.dbf convertido para CSV\n",
            "Removendo pasta temporária (/content/drive/MyDrive/UPE/projeto_arbovirose/base_10-04 - Zika/zika/dbc_files/temp_dbf)\n",
            "\n",
            "Conversão finalizada! Arquivos .csv salvos em /content/drive/MyDrive/UPE/projeto_arbovirose/base_10-04 - Zika/zika/dbc_files/csv\n"
          ]
        }
      ]
    }
  ]
}